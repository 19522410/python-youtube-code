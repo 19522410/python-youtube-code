{
 "cells": [
  {
   "cell_type": "code",
   "execution_count": 98,
   "metadata": {},
   "outputs": [],
   "source": [
    "# Imports, ignore warnings\n",
    "import warnings\n",
    "warnings.filterwarnings('ignore')\n",
    "import os\n",
    "from tensorflow import keras\n",
    "os.environ['TF_CPP_MIN_LOG_LEVEL'] = '3'\n",
    "from keras.models import model_from_json\n",
    "import librosa\n",
    "import librosa.display\n",
    "import numpy as np\n",
    "import pandas as pd\n",
    "import matplotlib.pyplot as plt\n",
    "from sklearn.utils import shuffle"
   ]
  },
  {
   "cell_type": "code",
   "execution_count": 99,
   "metadata": {},
   "outputs": [],
   "source": [
    "# Read in the JSON file\n",
    "json_file = open('model.json', 'r')\n",
    "loaded_model_json = json_file.read()\n",
    "json_file.close()"
   ]
  },
  {
   "cell_type": "code",
   "execution_count": 100,
   "metadata": {},
   "outputs": [],
   "source": [
    "# Load the model from JSON \n",
    "loaded_model = model_from_json(loaded_model_json)"
   ]
  },
  {
   "cell_type": "code",
   "execution_count": 101,
   "metadata": {},
   "outputs": [
    {
     "name": "stdout",
     "output_type": "stream",
     "text": [
      "Loaded model from disk\n"
     ]
    }
   ],
   "source": [
    "# Load weights into new model\n",
    "loaded_model.load_weights('saved_models/Emotion_Voice_Detection_Model.h5')\n",
    "print('Loaded model from disk')"
   ]
  },
  {
   "cell_type": "code",
   "execution_count": 102,
   "metadata": {},
   "outputs": [],
   "source": [
    "o = keras.optimizers.RMSprop(lr = 0.00001, decay = 1e-6)\n",
    "loaded_model.compile(loss ='categorical_crossentropy', optimizer = o, metrics = ['accuracy'])"
   ]
  },
  {
   "cell_type": "code",
   "execution_count": 125,
   "metadata": {},
   "outputs": [],
   "source": [
    "# Method for reading in the audio files and extracting features\n",
    "\"\"\"\n",
    "- d is the directory the audio files, default is the current working directory.\n",
    "- dur is the duration in seconds that will be read in.\n",
    "- For this CNN to work, dur must be 2.5\n",
    "\"\"\"\n",
    "\n",
    "def readAudioFiles(d, dur, sample_rate):\n",
    "    if d is None:\n",
    "        d = 'dir'\n",
    "        \n",
    "    df = pd.DataFrame(columns=['feature'])\n",
    "    file_names = []\n",
    "    i = 0\n",
    "    for audiofile in os.listdir(d):\n",
    "        # Load file using librosa\n",
    "        print(audiofile, \"loaded\")\n",
    "        file_names.append(audiofile)\n",
    "        X, sr = librosa.load(os.path.join(d, audiofile), res_type = 'kaiser_fast', duration = dur , sr = sample_rate, offset = 0.5)\n",
    "        sr = np.array(sr)\n",
    "        # Extract the MFCCS\n",
    "        mfccs = np.mean(librosa.feature.mfcc(y = X, \n",
    "                                            sr = sr, \n",
    "                                            n_mfcc = 13),\n",
    "                        axis=0)\n",
    "        feature = mfccs\n",
    "        # Add to data frame\n",
    "        df.loc[i] = [feature]\n",
    "        i += 1\n",
    "    df = pd.DataFrame(df['feature'].values.tolist())\n",
    "    df = shuffle(df)\n",
    "    df = df.fillna(0)\n",
    "    return df, file_names "
   ]
  },
  {
   "cell_type": "code",
   "execution_count": 116,
   "metadata": {},
   "outputs": [
    {
     "name": "stdout",
     "output_type": "stream",
     "text": [
      "daffyduck.wav loaded\n",
      "deranged.wav loaded\n",
      "weapons.wav loaded\n",
      "gamble.wav loaded\n"
     ]
    },
    {
     "name": "stderr",
     "output_type": "stream",
     "text": [
      "/Users/gabemersy/opt/anaconda3/lib/python3.7/site-packages/librosa/core/audio.py:161: UserWarning: PySoundFile failed. Trying audioread instead.\n",
      "  warnings.warn('PySoundFile failed. Trying audioread instead.')\n",
      "/Users/gabemersy/opt/anaconda3/lib/python3.7/site-packages/librosa/core/audio.py:161: UserWarning: PySoundFile failed. Trying audioread instead.\n",
      "  warnings.warn('PySoundFile failed. Trying audioread instead.')\n",
      "/Users/gabemersy/opt/anaconda3/lib/python3.7/site-packages/librosa/core/audio.py:161: UserWarning: PySoundFile failed. Trying audioread instead.\n",
      "  warnings.warn('PySoundFile failed. Trying audioread instead.')\n",
      "/Users/gabemersy/opt/anaconda3/lib/python3.7/site-packages/librosa/core/audio.py:161: UserWarning: PySoundFile failed. Trying audioread instead.\n",
      "  warnings.warn('PySoundFile failed. Trying audioread instead.')\n"
     ]
    },
    {
     "name": "stdout",
     "output_type": "stream",
     "text": [
      "cage.wav loaded\n",
      "punish.wav loaded\n",
      "shesaid.wav loaded\n",
      "smile.wav loaded\n",
      "wild.wav loaded\n"
     ]
    },
    {
     "name": "stderr",
     "output_type": "stream",
     "text": [
      "/Users/gabemersy/opt/anaconda3/lib/python3.7/site-packages/librosa/core/audio.py:161: UserWarning: PySoundFile failed. Trying audioread instead.\n",
      "  warnings.warn('PySoundFile failed. Trying audioread instead.')\n",
      "/Users/gabemersy/opt/anaconda3/lib/python3.7/site-packages/librosa/core/audio.py:161: UserWarning: PySoundFile failed. Trying audioread instead.\n",
      "  warnings.warn('PySoundFile failed. Trying audioread instead.')\n",
      "/Users/gabemersy/opt/anaconda3/lib/python3.7/site-packages/librosa/core/audio.py:161: UserWarning: PySoundFile failed. Trying audioread instead.\n",
      "  warnings.warn('PySoundFile failed. Trying audioread instead.')\n",
      "/Users/gabemersy/opt/anaconda3/lib/python3.7/site-packages/librosa/core/audio.py:161: UserWarning: PySoundFile failed. Trying audioread instead.\n",
      "  warnings.warn('PySoundFile failed. Trying audioread instead.')\n",
      "/Users/gabemersy/opt/anaconda3/lib/python3.7/site-packages/librosa/core/audio.py:161: UserWarning: PySoundFile failed. Trying audioread instead.\n",
      "  warnings.warn('PySoundFile failed. Trying audioread instead.')\n"
     ]
    }
   ],
   "source": [
    "audio_features, file_names = readAudioFiles(d = 'the-office-audio-clips', dur = 2.5, sample_rate = 44100)    "
   ]
  },
  {
   "cell_type": "code",
   "execution_count": 117,
   "metadata": {},
   "outputs": [
    {
     "data": {
      "text/html": [
       "<div>\n",
       "<style scoped>\n",
       "    .dataframe tbody tr th:only-of-type {\n",
       "        vertical-align: middle;\n",
       "    }\n",
       "\n",
       "    .dataframe tbody tr th {\n",
       "        vertical-align: top;\n",
       "    }\n",
       "\n",
       "    .dataframe thead th {\n",
       "        text-align: right;\n",
       "    }\n",
       "</style>\n",
       "<table border=\"1\" class=\"dataframe\">\n",
       "  <thead>\n",
       "    <tr style=\"text-align: right;\">\n",
       "      <th></th>\n",
       "      <th>0</th>\n",
       "      <th>1</th>\n",
       "      <th>2</th>\n",
       "      <th>3</th>\n",
       "      <th>4</th>\n",
       "      <th>5</th>\n",
       "      <th>6</th>\n",
       "      <th>7</th>\n",
       "      <th>8</th>\n",
       "      <th>9</th>\n",
       "      <th>...</th>\n",
       "      <th>206</th>\n",
       "      <th>207</th>\n",
       "      <th>208</th>\n",
       "      <th>209</th>\n",
       "      <th>210</th>\n",
       "      <th>211</th>\n",
       "      <th>212</th>\n",
       "      <th>213</th>\n",
       "      <th>214</th>\n",
       "      <th>215</th>\n",
       "    </tr>\n",
       "  </thead>\n",
       "  <tbody>\n",
       "    <tr>\n",
       "      <td>4</td>\n",
       "      <td>3.229875</td>\n",
       "      <td>-0.250440</td>\n",
       "      <td>-3.866760</td>\n",
       "      <td>-1.847083</td>\n",
       "      <td>-1.318632</td>\n",
       "      <td>-3.685853</td>\n",
       "      <td>-2.192310</td>\n",
       "      <td>-0.730599</td>\n",
       "      <td>-2.023446</td>\n",
       "      <td>-5.832206</td>\n",
       "      <td>...</td>\n",
       "      <td>-13.898515</td>\n",
       "      <td>-12.222639</td>\n",
       "      <td>-13.219418</td>\n",
       "      <td>-14.195075</td>\n",
       "      <td>-11.625480</td>\n",
       "      <td>-12.519917</td>\n",
       "      <td>-13.353108</td>\n",
       "      <td>-11.850022</td>\n",
       "      <td>-11.955689</td>\n",
       "      <td>-13.364690</td>\n",
       "    </tr>\n",
       "    <tr>\n",
       "      <td>5</td>\n",
       "      <td>-1.823485</td>\n",
       "      <td>-2.858779</td>\n",
       "      <td>-2.578187</td>\n",
       "      <td>-3.180720</td>\n",
       "      <td>-3.942394</td>\n",
       "      <td>-3.321160</td>\n",
       "      <td>-4.217803</td>\n",
       "      <td>-4.444540</td>\n",
       "      <td>-4.239151</td>\n",
       "      <td>-6.173795</td>\n",
       "      <td>...</td>\n",
       "      <td>-9.308763</td>\n",
       "      <td>-4.971852</td>\n",
       "      <td>-0.290382</td>\n",
       "      <td>1.649850</td>\n",
       "      <td>1.364283</td>\n",
       "      <td>1.380545</td>\n",
       "      <td>2.323864</td>\n",
       "      <td>0.953130</td>\n",
       "      <td>-0.293862</td>\n",
       "      <td>-3.324758</td>\n",
       "    </tr>\n",
       "    <tr>\n",
       "      <td>0</td>\n",
       "      <td>1.501406</td>\n",
       "      <td>0.817227</td>\n",
       "      <td>-0.033943</td>\n",
       "      <td>-0.573337</td>\n",
       "      <td>-0.992338</td>\n",
       "      <td>-1.820299</td>\n",
       "      <td>-0.825532</td>\n",
       "      <td>-1.126159</td>\n",
       "      <td>-2.236412</td>\n",
       "      <td>-1.790860</td>\n",
       "      <td>...</td>\n",
       "      <td>1.436221</td>\n",
       "      <td>2.606878</td>\n",
       "      <td>2.107405</td>\n",
       "      <td>2.170962</td>\n",
       "      <td>2.021762</td>\n",
       "      <td>1.636188</td>\n",
       "      <td>1.212440</td>\n",
       "      <td>0.841189</td>\n",
       "      <td>0.434088</td>\n",
       "      <td>0.131884</td>\n",
       "    </tr>\n",
       "    <tr>\n",
       "      <td>7</td>\n",
       "      <td>-2.409396</td>\n",
       "      <td>-2.300485</td>\n",
       "      <td>-2.479992</td>\n",
       "      <td>0.562576</td>\n",
       "      <td>1.272716</td>\n",
       "      <td>1.013227</td>\n",
       "      <td>0.298986</td>\n",
       "      <td>0.323682</td>\n",
       "      <td>-0.840398</td>\n",
       "      <td>-0.688106</td>\n",
       "      <td>...</td>\n",
       "      <td>-7.117177</td>\n",
       "      <td>-7.068227</td>\n",
       "      <td>-4.295846</td>\n",
       "      <td>-1.048497</td>\n",
       "      <td>0.295969</td>\n",
       "      <td>0.091689</td>\n",
       "      <td>-0.283530</td>\n",
       "      <td>-0.673306</td>\n",
       "      <td>-0.760514</td>\n",
       "      <td>1.282261</td>\n",
       "    </tr>\n",
       "    <tr>\n",
       "      <td>2</td>\n",
       "      <td>-4.842369</td>\n",
       "      <td>-6.932052</td>\n",
       "      <td>-10.699755</td>\n",
       "      <td>-11.399866</td>\n",
       "      <td>-12.337184</td>\n",
       "      <td>-12.564977</td>\n",
       "      <td>-13.072590</td>\n",
       "      <td>-11.631197</td>\n",
       "      <td>-11.871105</td>\n",
       "      <td>-12.651745</td>\n",
       "      <td>...</td>\n",
       "      <td>-9.536854</td>\n",
       "      <td>-12.701858</td>\n",
       "      <td>-13.665248</td>\n",
       "      <td>-11.295460</td>\n",
       "      <td>-13.528756</td>\n",
       "      <td>-13.409475</td>\n",
       "      <td>-12.887518</td>\n",
       "      <td>-15.160089</td>\n",
       "      <td>-15.461849</td>\n",
       "      <td>-14.582693</td>\n",
       "    </tr>\n",
       "  </tbody>\n",
       "</table>\n",
       "<p>5 rows × 216 columns</p>\n",
       "</div>"
      ],
      "text/plain": [
       "        0         1          2          3          4          5          6    \\\n",
       "4  3.229875 -0.250440  -3.866760  -1.847083  -1.318632  -3.685853  -2.192310   \n",
       "5 -1.823485 -2.858779  -2.578187  -3.180720  -3.942394  -3.321160  -4.217803   \n",
       "0  1.501406  0.817227  -0.033943  -0.573337  -0.992338  -1.820299  -0.825532   \n",
       "7 -2.409396 -2.300485  -2.479992   0.562576   1.272716   1.013227   0.298986   \n",
       "2 -4.842369 -6.932052 -10.699755 -11.399866 -12.337184 -12.564977 -13.072590   \n",
       "\n",
       "         7          8          9    ...        206        207        208  \\\n",
       "4  -0.730599  -2.023446  -5.832206  ... -13.898515 -12.222639 -13.219418   \n",
       "5  -4.444540  -4.239151  -6.173795  ...  -9.308763  -4.971852  -0.290382   \n",
       "0  -1.126159  -2.236412  -1.790860  ...   1.436221   2.606878   2.107405   \n",
       "7   0.323682  -0.840398  -0.688106  ...  -7.117177  -7.068227  -4.295846   \n",
       "2 -11.631197 -11.871105 -12.651745  ...  -9.536854 -12.701858 -13.665248   \n",
       "\n",
       "         209        210        211        212        213        214        215  \n",
       "4 -14.195075 -11.625480 -12.519917 -13.353108 -11.850022 -11.955689 -13.364690  \n",
       "5   1.649850   1.364283   1.380545   2.323864   0.953130  -0.293862  -3.324758  \n",
       "0   2.170962   2.021762   1.636188   1.212440   0.841189   0.434088   0.131884  \n",
       "7  -1.048497   0.295969   0.091689  -0.283530  -0.673306  -0.760514   1.282261  \n",
       "2 -11.295460 -13.528756 -13.409475 -12.887518 -15.160089 -15.461849 -14.582693  \n",
       "\n",
       "[5 rows x 216 columns]"
      ]
     },
     "execution_count": 117,
     "metadata": {},
     "output_type": "execute_result"
    }
   ],
   "source": [
    "audio_features.head()"
   ]
  },
  {
   "cell_type": "code",
   "execution_count": 118,
   "metadata": {},
   "outputs": [
    {
     "data": {
      "text/plain": [
       "array([[[ 3.22987485e+00],\n",
       "        [-2.50439703e-01],\n",
       "        [-3.86676025e+00],\n",
       "        ...,\n",
       "        [-1.18500223e+01],\n",
       "        [-1.19556894e+01],\n",
       "        [-1.33646898e+01]],\n",
       "\n",
       "       [[-1.82348454e+00],\n",
       "        [-2.85877872e+00],\n",
       "        [-2.57818699e+00],\n",
       "        ...,\n",
       "        [ 9.53130186e-01],\n",
       "        [-2.93862075e-01],\n",
       "        [-3.32475758e+00]],\n",
       "\n",
       "       [[ 1.50140584e+00],\n",
       "        [ 8.17227423e-01],\n",
       "        [-3.39427739e-02],\n",
       "        ...,\n",
       "        [ 8.41189027e-01],\n",
       "        [ 4.34088051e-01],\n",
       "        [ 1.31884351e-01]],\n",
       "\n",
       "       ...,\n",
       "\n",
       "       [[-1.07034435e+01],\n",
       "        [-8.51020718e+00],\n",
       "        [-5.30014801e+00],\n",
       "        ...,\n",
       "        [-3.21832037e+00],\n",
       "        [-1.79332304e+00],\n",
       "        [-7.45307468e-03]],\n",
       "\n",
       "       [[-4.59554720e+00],\n",
       "        [-1.88232219e+00],\n",
       "        [-1.98679745e+00],\n",
       "        ...,\n",
       "        [-9.92149353e+00],\n",
       "        [-8.15657139e+00],\n",
       "        [-8.68582344e+00]],\n",
       "\n",
       "       [[-9.50154686e+00],\n",
       "        [-9.01928425e+00],\n",
       "        [-8.81004429e+00],\n",
       "        ...,\n",
       "        [ 0.00000000e+00],\n",
       "        [ 0.00000000e+00],\n",
       "        [ 0.00000000e+00]]])"
      ]
     },
     "execution_count": 118,
     "metadata": {},
     "output_type": "execute_result"
    }
   ],
   "source": [
    "audio_features_cnn = np.expand_dims(audio_features, axis = 2)\n",
    "audio_features_cnn"
   ]
  },
  {
   "cell_type": "code",
   "execution_count": 119,
   "metadata": {},
   "outputs": [
    {
     "name": "stdout",
     "output_type": "stream",
     "text": [
      "\r",
      "9/9 [==============================] - 0s 3ms/step\n"
     ]
    }
   ],
   "source": [
    "preds = loaded_model.predict(audio_features_cnn, \n",
    "                             batch_size = 32, \n",
    "                             verbose = 1)"
   ]
  },
  {
   "cell_type": "code",
   "execution_count": 120,
   "metadata": {},
   "outputs": [],
   "source": [
    "preds = preds.argmax(axis = 1)"
   ]
  },
  {
   "cell_type": "code",
   "execution_count": 142,
   "metadata": {},
   "outputs": [],
   "source": [
    "emotions = {\n",
    "    \n",
    "    0: 'female_angry', \n",
    "    1: 'female_calm',\n",
    "    2 : 'female_fearful',\n",
    "    3 : 'female_happy',\n",
    "    4 : 'female_sad',\n",
    "    5 : 'male_angry',\n",
    "    6 : 'male_calm',\n",
    "    7 : 'male_fearful',\n",
    "    8 :'male_happy',\n",
    "    9 : 'male_sad'\n",
    "}\n",
    "\n",
    "def inverseTransform(preds, emotion_dict):\n",
    "    decoded = []\n",
    "    preds = preds.tolist()\n",
    "    for i in range(9):\n",
    "        key = preds[i]\n",
    "        filename = file_names[i]\n",
    "        val = emotion_dict[key]\n",
    "        print('file name:', filename, '/', 'CNN prediction:', key, '/', 'predicted emotion:', val)\n",
    "        decoded.append(val) \n",
    "    return filename, key, val\n",
    "        "
   ]
  },
  {
   "cell_type": "code",
   "execution_count": 143,
   "metadata": {},
   "outputs": [
    {
     "name": "stdout",
     "output_type": "stream",
     "text": [
      "file name: daffyduck.wav / CNN prediction: 7 / predicted emotion: male_fearful\n",
      "file name: deranged.wav / CNN prediction: 8 / predicted emotion: male_happy\n",
      "file name: weapons.wav / CNN prediction: 8 / predicted emotion: male_happy\n",
      "file name: gamble.wav / CNN prediction: 5 / predicted emotion: male_angry\n",
      "file name: cage.wav / CNN prediction: 5 / predicted emotion: male_angry\n",
      "file name: punish.wav / CNN prediction: 8 / predicted emotion: male_happy\n",
      "file name: shesaid.wav / CNN prediction: 8 / predicted emotion: male_happy\n",
      "file name: smile.wav / CNN prediction: 7 / predicted emotion: male_fearful\n",
      "file name: wild.wav / CNN prediction: 9 / predicted emotion: male_sad\n"
     ]
    }
   ],
   "source": [
    "pred_emo = inverseTransform(preds, emotions)"
   ]
  }
 ],
 "metadata": {
  "kernelspec": {
   "display_name": "Python 3",
   "language": "python",
   "name": "python3"
  },
  "language_info": {
   "codemirror_mode": {
    "name": "ipython",
    "version": 3
   },
   "file_extension": ".py",
   "mimetype": "text/x-python",
   "name": "python",
   "nbconvert_exporter": "python",
   "pygments_lexer": "ipython3",
   "version": "3.7.4"
  }
 },
 "nbformat": 4,
 "nbformat_minor": 2
}
