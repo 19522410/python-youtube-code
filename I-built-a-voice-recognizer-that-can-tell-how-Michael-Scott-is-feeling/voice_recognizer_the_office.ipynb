{
 "cells": [
  {
   "cell_type": "code",
   "execution_count": 2,
   "metadata": {},
   "outputs": [
    {
     "name": "stderr",
     "output_type": "stream",
     "text": [
      "Using TensorFlow backend.\n"
     ]
    }
   ],
   "source": [
    "import os\n",
    "from tensorflow import keras\n",
    "from keras.models import model_from_json\n",
    "import librosa\n",
    "import librosa.display\n",
    "import numpy as np\n",
    "import pandas as pd\n",
    "import matplotlib.pyplot as plt\n",
    "from sklearn.utils import shuffle"
   ]
  },
  {
   "cell_type": "code",
   "execution_count": 3,
   "metadata": {},
   "outputs": [],
   "source": [
    "# Read in the JSON file\n",
    "json_file = open('model.json', 'r')\n",
    "loaded_model_json = json_file.read()\n",
    "json_file.close()"
   ]
  },
  {
   "cell_type": "code",
   "execution_count": 4,
   "metadata": {},
   "outputs": [],
   "source": [
    "# Load the model from JSON \n",
    "loaded_model = model_from_json(loaded_model_json)"
   ]
  },
  {
   "cell_type": "code",
   "execution_count": 5,
   "metadata": {},
   "outputs": [
    {
     "name": "stdout",
     "output_type": "stream",
     "text": [
      "Loaded model from disk\n"
     ]
    }
   ],
   "source": [
    "# Load weights into new model\n",
    "loaded_model.load_weights('saved_models/Emotion_Voice_Detection_Model.h5')\n",
    "print('Loaded model from disk')"
   ]
  },
  {
   "cell_type": "code",
   "execution_count": 6,
   "metadata": {},
   "outputs": [],
   "source": [
    "o = keras.optimizers.RMSprop(lr = 0.00001, decay = 1e-6)\n",
    "loaded_model.compile(loss ='categorical_crossentropy', optimizer = o, metrics = ['accuracy'])"
   ]
  },
  {
   "cell_type": "code",
   "execution_count": 14,
   "metadata": {},
   "outputs": [],
   "source": [
    "# Method for reading in the audio files and extracting features\n",
    "\"\"\"\n",
    "d is the directory the audio files, default is the current working directory.\n",
    "dur is the duration in seconds that will be read in\n",
    "\"\"\"\n",
    "\n",
    "def readAudioFiles(d, dur, sample_rate):\n",
    "    if d is None:\n",
    "        d = 'dir'\n",
    "        \n",
    "    df = pd.DataFrame(columns=['feature'])\n",
    "    i = 0\n",
    "\n",
    "    for audiofile in os.listdir(d):\n",
    "        # Load file using librosa\n",
    "        print(audiofile, \"loaded\")\n",
    "        X, sr = librosa.load(os.path.join(d, audiofile), res_type = 'kaiser_fast', duration = dur , sr = sample_rate, offset = 0.5)\n",
    "        sr = np.array(sr)\n",
    "        # Extract the MFCCS\n",
    "        mfccs = np.mean(librosa.feature.mfcc(y = X, \n",
    "                                            sr = sr, \n",
    "                                            n_mfcc = 13),\n",
    "                        axis=0)\n",
    "        feature = mfccs\n",
    "        # Add to data frame\n",
    "        df.loc[i] = [feature]\n",
    "        i += 1\n",
    "    df = pd.DataFrame(df['feature'].values.tolist())\n",
    "    df = shuffle(df)\n",
    "    df = df.fillna(0)\n",
    "    return df  "
   ]
  },
  {
   "cell_type": "code",
   "execution_count": 15,
   "metadata": {},
   "outputs": [
    {
     "name": "stdout",
     "output_type": "stream",
     "text": [
      "daffyduck.wav loaded\n",
      "deranged.wav loaded\n",
      "weapons.wav loaded\n"
     ]
    },
    {
     "name": "stderr",
     "output_type": "stream",
     "text": [
      "/Users/gabemersy/opt/anaconda3/lib/python3.7/site-packages/librosa/core/audio.py:161: UserWarning: PySoundFile failed. Trying audioread instead.\n",
      "  warnings.warn('PySoundFile failed. Trying audioread instead.')\n",
      "/Users/gabemersy/opt/anaconda3/lib/python3.7/site-packages/librosa/core/audio.py:161: UserWarning: PySoundFile failed. Trying audioread instead.\n",
      "  warnings.warn('PySoundFile failed. Trying audioread instead.')\n",
      "/Users/gabemersy/opt/anaconda3/lib/python3.7/site-packages/librosa/core/audio.py:161: UserWarning: PySoundFile failed. Trying audioread instead.\n",
      "  warnings.warn('PySoundFile failed. Trying audioread instead.')\n"
     ]
    },
    {
     "name": "stdout",
     "output_type": "stream",
     "text": [
      "gamble.wav loaded\n",
      "cage.wav loaded\n",
      "punish.wav loaded\n",
      "shesaid.wav loaded\n"
     ]
    },
    {
     "name": "stderr",
     "output_type": "stream",
     "text": [
      "/Users/gabemersy/opt/anaconda3/lib/python3.7/site-packages/librosa/core/audio.py:161: UserWarning: PySoundFile failed. Trying audioread instead.\n",
      "  warnings.warn('PySoundFile failed. Trying audioread instead.')\n",
      "/Users/gabemersy/opt/anaconda3/lib/python3.7/site-packages/librosa/core/audio.py:161: UserWarning: PySoundFile failed. Trying audioread instead.\n",
      "  warnings.warn('PySoundFile failed. Trying audioread instead.')\n",
      "/Users/gabemersy/opt/anaconda3/lib/python3.7/site-packages/librosa/core/audio.py:161: UserWarning: PySoundFile failed. Trying audioread instead.\n",
      "  warnings.warn('PySoundFile failed. Trying audioread instead.')\n",
      "/Users/gabemersy/opt/anaconda3/lib/python3.7/site-packages/librosa/core/audio.py:161: UserWarning: PySoundFile failed. Trying audioread instead.\n",
      "  warnings.warn('PySoundFile failed. Trying audioread instead.')\n"
     ]
    },
    {
     "name": "stdout",
     "output_type": "stream",
     "text": [
      "smile.wav loaded\n",
      "wild.wav loaded\n"
     ]
    },
    {
     "name": "stderr",
     "output_type": "stream",
     "text": [
      "/Users/gabemersy/opt/anaconda3/lib/python3.7/site-packages/librosa/core/audio.py:161: UserWarning: PySoundFile failed. Trying audioread instead.\n",
      "  warnings.warn('PySoundFile failed. Trying audioread instead.')\n",
      "/Users/gabemersy/opt/anaconda3/lib/python3.7/site-packages/librosa/core/audio.py:161: UserWarning: PySoundFile failed. Trying audioread instead.\n",
      "  warnings.warn('PySoundFile failed. Trying audioread instead.')\n"
     ]
    }
   ],
   "source": [
    "audio_features = readAudioFiles(d = 'the-office-audio-clips', dur = 5, sample_rate = 44100)    "
   ]
  },
  {
   "cell_type": "code",
   "execution_count": 16,
   "metadata": {},
   "outputs": [
    {
     "data": {
      "text/html": [
       "<div>\n",
       "<style scoped>\n",
       "    .dataframe tbody tr th:only-of-type {\n",
       "        vertical-align: middle;\n",
       "    }\n",
       "\n",
       "    .dataframe tbody tr th {\n",
       "        vertical-align: top;\n",
       "    }\n",
       "\n",
       "    .dataframe thead th {\n",
       "        text-align: right;\n",
       "    }\n",
       "</style>\n",
       "<table border=\"1\" class=\"dataframe\">\n",
       "  <thead>\n",
       "    <tr style=\"text-align: right;\">\n",
       "      <th></th>\n",
       "      <th>0</th>\n",
       "      <th>1</th>\n",
       "      <th>2</th>\n",
       "      <th>3</th>\n",
       "      <th>4</th>\n",
       "      <th>5</th>\n",
       "      <th>6</th>\n",
       "      <th>7</th>\n",
       "      <th>8</th>\n",
       "      <th>9</th>\n",
       "      <th>...</th>\n",
       "      <th>421</th>\n",
       "      <th>422</th>\n",
       "      <th>423</th>\n",
       "      <th>424</th>\n",
       "      <th>425</th>\n",
       "      <th>426</th>\n",
       "      <th>427</th>\n",
       "      <th>428</th>\n",
       "      <th>429</th>\n",
       "      <th>430</th>\n",
       "    </tr>\n",
       "  </thead>\n",
       "  <tbody>\n",
       "    <tr>\n",
       "      <td>5</td>\n",
       "      <td>-1.823485</td>\n",
       "      <td>-2.858779</td>\n",
       "      <td>-2.578187</td>\n",
       "      <td>-3.180720</td>\n",
       "      <td>-3.942394</td>\n",
       "      <td>-3.321160</td>\n",
       "      <td>-4.217803</td>\n",
       "      <td>-4.444540</td>\n",
       "      <td>-4.239151</td>\n",
       "      <td>-6.173795</td>\n",
       "      <td>...</td>\n",
       "      <td>0.000000</td>\n",
       "      <td>0.000000</td>\n",
       "      <td>0.000000</td>\n",
       "      <td>0.000000</td>\n",
       "      <td>0.000000</td>\n",
       "      <td>0.000000</td>\n",
       "      <td>0.000000</td>\n",
       "      <td>0.000000</td>\n",
       "      <td>0.000000</td>\n",
       "      <td>0.000000</td>\n",
       "    </tr>\n",
       "    <tr>\n",
       "      <td>8</td>\n",
       "      <td>-11.626565</td>\n",
       "      <td>-8.261168</td>\n",
       "      <td>-3.249132</td>\n",
       "      <td>-0.940595</td>\n",
       "      <td>1.987757</td>\n",
       "      <td>4.233783</td>\n",
       "      <td>3.591128</td>\n",
       "      <td>1.603926</td>\n",
       "      <td>1.797844</td>\n",
       "      <td>1.981687</td>\n",
       "      <td>...</td>\n",
       "      <td>-8.495510</td>\n",
       "      <td>-9.492653</td>\n",
       "      <td>-9.052237</td>\n",
       "      <td>-6.065236</td>\n",
       "      <td>-7.594638</td>\n",
       "      <td>-10.608117</td>\n",
       "      <td>-9.674892</td>\n",
       "      <td>-9.647935</td>\n",
       "      <td>-7.271650</td>\n",
       "      <td>-8.547244</td>\n",
       "    </tr>\n",
       "    <tr>\n",
       "      <td>3</td>\n",
       "      <td>-10.703444</td>\n",
       "      <td>-8.510207</td>\n",
       "      <td>-5.300148</td>\n",
       "      <td>-6.360087</td>\n",
       "      <td>-7.391901</td>\n",
       "      <td>-5.837784</td>\n",
       "      <td>-4.275815</td>\n",
       "      <td>-2.047449</td>\n",
       "      <td>-1.596384</td>\n",
       "      <td>-0.740989</td>\n",
       "      <td>...</td>\n",
       "      <td>-7.920424</td>\n",
       "      <td>-6.963116</td>\n",
       "      <td>-9.882899</td>\n",
       "      <td>-10.272681</td>\n",
       "      <td>-9.333709</td>\n",
       "      <td>-7.933344</td>\n",
       "      <td>-7.172597</td>\n",
       "      <td>-6.546296</td>\n",
       "      <td>-8.943749</td>\n",
       "      <td>-7.539953</td>\n",
       "    </tr>\n",
       "    <tr>\n",
       "      <td>4</td>\n",
       "      <td>3.229875</td>\n",
       "      <td>-0.250440</td>\n",
       "      <td>-3.866760</td>\n",
       "      <td>-1.847083</td>\n",
       "      <td>-1.318633</td>\n",
       "      <td>-3.685853</td>\n",
       "      <td>-2.192310</td>\n",
       "      <td>-0.730599</td>\n",
       "      <td>-2.023446</td>\n",
       "      <td>-5.832206</td>\n",
       "      <td>...</td>\n",
       "      <td>-2.788162</td>\n",
       "      <td>-1.870569</td>\n",
       "      <td>-2.859550</td>\n",
       "      <td>-3.153295</td>\n",
       "      <td>-2.419583</td>\n",
       "      <td>-4.045360</td>\n",
       "      <td>-3.799669</td>\n",
       "      <td>-3.552630</td>\n",
       "      <td>-6.325776</td>\n",
       "      <td>-4.992913</td>\n",
       "    </tr>\n",
       "    <tr>\n",
       "      <td>2</td>\n",
       "      <td>-4.842369</td>\n",
       "      <td>-6.932052</td>\n",
       "      <td>-10.699755</td>\n",
       "      <td>-11.399866</td>\n",
       "      <td>-12.337184</td>\n",
       "      <td>-12.564977</td>\n",
       "      <td>-13.072590</td>\n",
       "      <td>-11.631197</td>\n",
       "      <td>-11.871105</td>\n",
       "      <td>-12.651745</td>\n",
       "      <td>...</td>\n",
       "      <td>-10.887604</td>\n",
       "      <td>-13.220775</td>\n",
       "      <td>-13.953422</td>\n",
       "      <td>-11.502735</td>\n",
       "      <td>-11.511906</td>\n",
       "      <td>-16.037020</td>\n",
       "      <td>-14.341384</td>\n",
       "      <td>-12.209858</td>\n",
       "      <td>-11.715927</td>\n",
       "      <td>-11.890329</td>\n",
       "    </tr>\n",
       "  </tbody>\n",
       "</table>\n",
       "<p>5 rows × 431 columns</p>\n",
       "</div>"
      ],
      "text/plain": [
       "         0         1          2          3          4          5          6    \\\n",
       "5  -1.823485 -2.858779  -2.578187  -3.180720  -3.942394  -3.321160  -4.217803   \n",
       "8 -11.626565 -8.261168  -3.249132  -0.940595   1.987757   4.233783   3.591128   \n",
       "3 -10.703444 -8.510207  -5.300148  -6.360087  -7.391901  -5.837784  -4.275815   \n",
       "4   3.229875 -0.250440  -3.866760  -1.847083  -1.318633  -3.685853  -2.192310   \n",
       "2  -4.842369 -6.932052 -10.699755 -11.399866 -12.337184 -12.564977 -13.072590   \n",
       "\n",
       "         7          8          9    ...        421        422        423  \\\n",
       "5  -4.444540  -4.239151  -6.173795  ...   0.000000   0.000000   0.000000   \n",
       "8   1.603926   1.797844   1.981687  ...  -8.495510  -9.492653  -9.052237   \n",
       "3  -2.047449  -1.596384  -0.740989  ...  -7.920424  -6.963116  -9.882899   \n",
       "4  -0.730599  -2.023446  -5.832206  ...  -2.788162  -1.870569  -2.859550   \n",
       "2 -11.631197 -11.871105 -12.651745  ... -10.887604 -13.220775 -13.953422   \n",
       "\n",
       "         424        425        426        427        428        429        430  \n",
       "5   0.000000   0.000000   0.000000   0.000000   0.000000   0.000000   0.000000  \n",
       "8  -6.065236  -7.594638 -10.608117  -9.674892  -9.647935  -7.271650  -8.547244  \n",
       "3 -10.272681  -9.333709  -7.933344  -7.172597  -6.546296  -8.943749  -7.539953  \n",
       "4  -3.153295  -2.419583  -4.045360  -3.799669  -3.552630  -6.325776  -4.992913  \n",
       "2 -11.502735 -11.511906 -16.037020 -14.341384 -12.209858 -11.715927 -11.890329  \n",
       "\n",
       "[5 rows x 431 columns]"
      ]
     },
     "execution_count": 16,
     "metadata": {},
     "output_type": "execute_result"
    }
   ],
   "source": [
    "audio_features.head()"
   ]
  },
  {
   "cell_type": "code",
   "execution_count": null,
   "metadata": {},
   "outputs": [],
   "source": []
  }
 ],
 "metadata": {
  "kernelspec": {
   "display_name": "Python 3",
   "language": "python",
   "name": "python3"
  },
  "language_info": {
   "codemirror_mode": {
    "name": "ipython",
    "version": 3
   },
   "file_extension": ".py",
   "mimetype": "text/x-python",
   "name": "python",
   "nbconvert_exporter": "python",
   "pygments_lexer": "ipython3",
   "version": "3.7.4"
  }
 },
 "nbformat": 4,
 "nbformat_minor": 2
}
