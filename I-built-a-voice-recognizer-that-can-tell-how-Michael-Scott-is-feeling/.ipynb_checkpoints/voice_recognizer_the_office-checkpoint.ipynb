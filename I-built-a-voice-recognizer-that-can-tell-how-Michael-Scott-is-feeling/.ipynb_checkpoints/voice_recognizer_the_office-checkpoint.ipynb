{
 "cells": [
  {
   "cell_type": "code",
   "execution_count": 1,
   "metadata": {},
   "outputs": [
    {
     "name": "stderr",
     "output_type": "stream",
     "text": [
      "Using TensorFlow backend.\n"
     ]
    }
   ],
   "source": [
    "# Imports, ignore warnings\n",
    "import warnings\n",
    "warnings.filterwarnings('ignore')\n",
    "import os\n",
    "from tensorflow import keras\n",
    "os.environ['TF_CPP_MIN_LOG_LEVEL'] = '3'\n",
    "from keras.models import model_from_json\n",
    "import librosa\n",
    "import librosa.display\n",
    "import numpy as np\n",
    "import pandas as pd\n",
    "import matplotlib.pyplot as plt\n",
    "from sklearn.utils import shuffle"
   ]
  },
  {
   "cell_type": "code",
   "execution_count": 2,
   "metadata": {},
   "outputs": [],
   "source": [
    "# Read in the JSON file\n",
    "json_file = open('model.json', 'r')\n",
    "loaded_model_json = json_file.read()\n",
    "json_file.close()"
   ]
  },
  {
   "cell_type": "code",
   "execution_count": 3,
   "metadata": {},
   "outputs": [],
   "source": [
    "# Load the model from JSON \n",
    "loaded_model = model_from_json(loaded_model_json)"
   ]
  },
  {
   "cell_type": "code",
   "execution_count": 11,
   "metadata": {},
   "outputs": [
    {
     "name": "stdout",
     "output_type": "stream",
     "text": [
      "Loaded model from disk\n",
      "Model: \"sequential_1\"\n",
      "_________________________________________________________________\n",
      "Layer (type)                 Output Shape              Param #   \n",
      "=================================================================\n",
      "conv1d_7 (Conv1D)            (None, 216, 128)          768       \n",
      "_________________________________________________________________\n",
      "activation_8 (Activation)    (None, 216, 128)          0         \n",
      "_________________________________________________________________\n",
      "conv1d_8 (Conv1D)            (None, 216, 128)          82048     \n",
      "_________________________________________________________________\n",
      "activation_9 (Activation)    (None, 216, 128)          0         \n",
      "_________________________________________________________________\n",
      "dropout_3 (Dropout)          (None, 216, 128)          0         \n",
      "_________________________________________________________________\n",
      "max_pooling1d_2 (MaxPooling1 (None, 27, 128)           0         \n",
      "_________________________________________________________________\n",
      "conv1d_9 (Conv1D)            (None, 27, 128)           82048     \n",
      "_________________________________________________________________\n",
      "activation_10 (Activation)   (None, 27, 128)           0         \n",
      "_________________________________________________________________\n",
      "conv1d_10 (Conv1D)           (None, 27, 128)           82048     \n",
      "_________________________________________________________________\n",
      "activation_11 (Activation)   (None, 27, 128)           0         \n",
      "_________________________________________________________________\n",
      "conv1d_11 (Conv1D)           (None, 27, 128)           82048     \n",
      "_________________________________________________________________\n",
      "activation_12 (Activation)   (None, 27, 128)           0         \n",
      "_________________________________________________________________\n",
      "dropout_4 (Dropout)          (None, 27, 128)           0         \n",
      "_________________________________________________________________\n",
      "conv1d_12 (Conv1D)           (None, 27, 128)           82048     \n",
      "_________________________________________________________________\n",
      "activation_13 (Activation)   (None, 27, 128)           0         \n",
      "_________________________________________________________________\n",
      "flatten_2 (Flatten)          (None, 3456)              0         \n",
      "_________________________________________________________________\n",
      "dense_2 (Dense)              (None, 10)                34570     \n",
      "_________________________________________________________________\n",
      "activation_14 (Activation)   (None, 10)                0         \n",
      "=================================================================\n",
      "Total params: 445,578\n",
      "Trainable params: 445,578\n",
      "Non-trainable params: 0\n",
      "_________________________________________________________________\n"
     ]
    }
   ],
   "source": [
    "# Load weights into new model\n",
    "loaded_model.load_weights('saved_models/Emotion_Voice_Detection_Model.h5')\n",
    "print('Loaded model from disk')\n",
    "loaded_model.summary()"
   ]
  },
  {
   "cell_type": "code",
   "execution_count": 13,
   "metadata": {},
   "outputs": [
    {
     "data": {
      "text/plain": [
       "{'name': 'activation_14',\n",
       " 'trainable': True,\n",
       " 'dtype': 'float32',\n",
       " 'activation': 'softmax'}"
      ]
     },
     "execution_count": 13,
     "metadata": {},
     "output_type": "execute_result"
    }
   ],
   "source": [
    "loaded_model.layers[17].get_config()"
   ]
  },
  {
   "cell_type": "code",
   "execution_count": 5,
   "metadata": {},
   "outputs": [],
   "source": [
    "o = keras.optimizers.RMSprop(lr = 0.00001, decay = 1e-6)\n",
    "loaded_model.compile(loss ='categorical_crossentropy', optimizer = o, metrics = ['accuracy'])"
   ]
  },
  {
   "cell_type": "code",
   "execution_count": 6,
   "metadata": {},
   "outputs": [],
   "source": [
    "# Method for reading in the audio files and extracting features\n",
    "\"\"\"\n",
    "- d is the directory the audio files, default is the current working directory.\n",
    "- dur is the duration in seconds that will be read in.\n",
    "- For this CNN to work, dur must be 2.5\n",
    "\"\"\"\n",
    "\n",
    "def readAudioFiles(d, dur, sample_rate):\n",
    "    if d is None:\n",
    "        d = 'dir'\n",
    "        \n",
    "    df = pd.DataFrame(columns=['feature'])\n",
    "    file_names = []\n",
    "    i = 0\n",
    "    for audiofile in os.listdir(d):\n",
    "        # Load file using librosa\n",
    "        print(audiofile, \"loaded\")\n",
    "        file_names.append(audiofile)\n",
    "        X, sr = librosa.load(os.path.join(d, audiofile), res_type = 'kaiser_fast', duration = dur , sr = sample_rate, offset = 0.5)\n",
    "        sr = np.array(sr)\n",
    "        # Extract the MFCCS\n",
    "        mfccs = np.mean(librosa.feature.mfcc(y = X, \n",
    "                                            sr = sr, \n",
    "                                            n_mfcc = 13),\n",
    "                        axis=0)\n",
    "        feature = mfccs\n",
    "        # Add to data frame\n",
    "        df.loc[i] = [feature]\n",
    "        i += 1\n",
    "    df = pd.DataFrame(df['feature'].values.tolist())\n",
    "    df = shuffle(df)\n",
    "    df = df.fillna(0)\n",
    "    return df, file_names "
   ]
  },
  {
   "cell_type": "code",
   "execution_count": 7,
   "metadata": {},
   "outputs": [
    {
     "name": "stdout",
     "output_type": "stream",
     "text": [
      "daffyduck.wav loaded\n",
      "deranged.wav loaded\n",
      "weapons.wav loaded\n",
      "gamble.wav loaded\n",
      "cage.wav loaded\n",
      "punish.wav loaded\n",
      "shesaid.wav loaded\n",
      "smile.wav loaded\n",
      "wild.wav loaded\n"
     ]
    }
   ],
   "source": [
    "audio_features, file_names = readAudioFiles(d = 'the-office-audio-clips', dur = 2.5, sample_rate = 44100)    "
   ]
  },
  {
   "cell_type": "code",
   "execution_count": 8,
   "metadata": {},
   "outputs": [
    {
     "data": {
      "text/html": [
       "<div>\n",
       "<style scoped>\n",
       "    .dataframe tbody tr th:only-of-type {\n",
       "        vertical-align: middle;\n",
       "    }\n",
       "\n",
       "    .dataframe tbody tr th {\n",
       "        vertical-align: top;\n",
       "    }\n",
       "\n",
       "    .dataframe thead th {\n",
       "        text-align: right;\n",
       "    }\n",
       "</style>\n",
       "<table border=\"1\" class=\"dataframe\">\n",
       "  <thead>\n",
       "    <tr style=\"text-align: right;\">\n",
       "      <th></th>\n",
       "      <th>0</th>\n",
       "      <th>1</th>\n",
       "      <th>2</th>\n",
       "      <th>3</th>\n",
       "      <th>4</th>\n",
       "      <th>5</th>\n",
       "      <th>6</th>\n",
       "      <th>7</th>\n",
       "      <th>8</th>\n",
       "      <th>9</th>\n",
       "      <th>...</th>\n",
       "      <th>206</th>\n",
       "      <th>207</th>\n",
       "      <th>208</th>\n",
       "      <th>209</th>\n",
       "      <th>210</th>\n",
       "      <th>211</th>\n",
       "      <th>212</th>\n",
       "      <th>213</th>\n",
       "      <th>214</th>\n",
       "      <th>215</th>\n",
       "    </tr>\n",
       "  </thead>\n",
       "  <tbody>\n",
       "    <tr>\n",
       "      <td>0</td>\n",
       "      <td>1.501406</td>\n",
       "      <td>0.817227</td>\n",
       "      <td>-0.033943</td>\n",
       "      <td>-0.573337</td>\n",
       "      <td>-0.992338</td>\n",
       "      <td>-1.820299</td>\n",
       "      <td>-0.825532</td>\n",
       "      <td>-1.126159</td>\n",
       "      <td>-2.236412</td>\n",
       "      <td>-1.790860</td>\n",
       "      <td>...</td>\n",
       "      <td>1.436221</td>\n",
       "      <td>2.606878</td>\n",
       "      <td>2.107405</td>\n",
       "      <td>2.170962</td>\n",
       "      <td>2.021762</td>\n",
       "      <td>1.636188</td>\n",
       "      <td>1.212440</td>\n",
       "      <td>0.841189</td>\n",
       "      <td>0.434088</td>\n",
       "      <td>0.131884</td>\n",
       "    </tr>\n",
       "    <tr>\n",
       "      <td>7</td>\n",
       "      <td>-2.409396</td>\n",
       "      <td>-2.300485</td>\n",
       "      <td>-2.479992</td>\n",
       "      <td>0.562576</td>\n",
       "      <td>1.272716</td>\n",
       "      <td>1.013227</td>\n",
       "      <td>0.298986</td>\n",
       "      <td>0.323682</td>\n",
       "      <td>-0.840398</td>\n",
       "      <td>-0.688106</td>\n",
       "      <td>...</td>\n",
       "      <td>-7.117177</td>\n",
       "      <td>-7.068227</td>\n",
       "      <td>-4.295846</td>\n",
       "      <td>-1.048497</td>\n",
       "      <td>0.295969</td>\n",
       "      <td>0.091689</td>\n",
       "      <td>-0.283530</td>\n",
       "      <td>-0.673306</td>\n",
       "      <td>-0.760514</td>\n",
       "      <td>1.282261</td>\n",
       "    </tr>\n",
       "    <tr>\n",
       "      <td>3</td>\n",
       "      <td>-10.703444</td>\n",
       "      <td>-8.510207</td>\n",
       "      <td>-5.300148</td>\n",
       "      <td>-6.360087</td>\n",
       "      <td>-7.391901</td>\n",
       "      <td>-5.837784</td>\n",
       "      <td>-4.275815</td>\n",
       "      <td>-2.047449</td>\n",
       "      <td>-1.596384</td>\n",
       "      <td>-0.740989</td>\n",
       "      <td>...</td>\n",
       "      <td>-1.705452</td>\n",
       "      <td>-2.427559</td>\n",
       "      <td>-4.075689</td>\n",
       "      <td>-5.216367</td>\n",
       "      <td>-2.874220</td>\n",
       "      <td>-3.190225</td>\n",
       "      <td>-3.929511</td>\n",
       "      <td>-3.218320</td>\n",
       "      <td>-1.793323</td>\n",
       "      <td>-0.007453</td>\n",
       "    </tr>\n",
       "    <tr>\n",
       "      <td>4</td>\n",
       "      <td>3.229875</td>\n",
       "      <td>-0.250440</td>\n",
       "      <td>-3.866760</td>\n",
       "      <td>-1.847083</td>\n",
       "      <td>-1.318632</td>\n",
       "      <td>-3.685853</td>\n",
       "      <td>-2.192310</td>\n",
       "      <td>-0.730599</td>\n",
       "      <td>-2.023446</td>\n",
       "      <td>-5.832206</td>\n",
       "      <td>...</td>\n",
       "      <td>-13.898515</td>\n",
       "      <td>-12.222639</td>\n",
       "      <td>-13.219418</td>\n",
       "      <td>-14.195075</td>\n",
       "      <td>-11.625480</td>\n",
       "      <td>-12.519917</td>\n",
       "      <td>-13.353108</td>\n",
       "      <td>-11.850022</td>\n",
       "      <td>-11.955689</td>\n",
       "      <td>-13.364690</td>\n",
       "    </tr>\n",
       "    <tr>\n",
       "      <td>2</td>\n",
       "      <td>-4.842369</td>\n",
       "      <td>-6.932052</td>\n",
       "      <td>-10.699755</td>\n",
       "      <td>-11.399866</td>\n",
       "      <td>-12.337184</td>\n",
       "      <td>-12.564977</td>\n",
       "      <td>-13.072590</td>\n",
       "      <td>-11.631197</td>\n",
       "      <td>-11.871105</td>\n",
       "      <td>-12.651745</td>\n",
       "      <td>...</td>\n",
       "      <td>-9.536854</td>\n",
       "      <td>-12.701858</td>\n",
       "      <td>-13.665248</td>\n",
       "      <td>-11.295460</td>\n",
       "      <td>-13.528756</td>\n",
       "      <td>-13.409475</td>\n",
       "      <td>-12.887518</td>\n",
       "      <td>-15.160089</td>\n",
       "      <td>-15.461849</td>\n",
       "      <td>-14.582693</td>\n",
       "    </tr>\n",
       "  </tbody>\n",
       "</table>\n",
       "<p>5 rows × 216 columns</p>\n",
       "</div>"
      ],
      "text/plain": [
       "         0         1          2          3          4          5          6    \\\n",
       "0   1.501406  0.817227  -0.033943  -0.573337  -0.992338  -1.820299  -0.825532   \n",
       "7  -2.409396 -2.300485  -2.479992   0.562576   1.272716   1.013227   0.298986   \n",
       "3 -10.703444 -8.510207  -5.300148  -6.360087  -7.391901  -5.837784  -4.275815   \n",
       "4   3.229875 -0.250440  -3.866760  -1.847083  -1.318632  -3.685853  -2.192310   \n",
       "2  -4.842369 -6.932052 -10.699755 -11.399866 -12.337184 -12.564977 -13.072590   \n",
       "\n",
       "         7          8          9    ...        206        207        208  \\\n",
       "0  -1.126159  -2.236412  -1.790860  ...   1.436221   2.606878   2.107405   \n",
       "7   0.323682  -0.840398  -0.688106  ...  -7.117177  -7.068227  -4.295846   \n",
       "3  -2.047449  -1.596384  -0.740989  ...  -1.705452  -2.427559  -4.075689   \n",
       "4  -0.730599  -2.023446  -5.832206  ... -13.898515 -12.222639 -13.219418   \n",
       "2 -11.631197 -11.871105 -12.651745  ...  -9.536854 -12.701858 -13.665248   \n",
       "\n",
       "         209        210        211        212        213        214        215  \n",
       "0   2.170962   2.021762   1.636188   1.212440   0.841189   0.434088   0.131884  \n",
       "7  -1.048497   0.295969   0.091689  -0.283530  -0.673306  -0.760514   1.282261  \n",
       "3  -5.216367  -2.874220  -3.190225  -3.929511  -3.218320  -1.793323  -0.007453  \n",
       "4 -14.195075 -11.625480 -12.519917 -13.353108 -11.850022 -11.955689 -13.364690  \n",
       "2 -11.295460 -13.528756 -13.409475 -12.887518 -15.160089 -15.461849 -14.582693  \n",
       "\n",
       "[5 rows x 216 columns]"
      ]
     },
     "execution_count": 8,
     "metadata": {},
     "output_type": "execute_result"
    }
   ],
   "source": [
    "audio_features.head()"
   ]
  },
  {
   "cell_type": "code",
   "execution_count": 9,
   "metadata": {},
   "outputs": [
    {
     "data": {
      "text/plain": [
       "array([[[ 1.50140584e+00],\n",
       "        [ 8.17227423e-01],\n",
       "        [-3.39427739e-02],\n",
       "        ...,\n",
       "        [ 8.41189027e-01],\n",
       "        [ 4.34088051e-01],\n",
       "        [ 1.31884351e-01]],\n",
       "\n",
       "       [[-2.40939617e+00],\n",
       "        [-2.30048466e+00],\n",
       "        [-2.47999215e+00],\n",
       "        ...,\n",
       "        [-6.73305631e-01],\n",
       "        [-7.60513604e-01],\n",
       "        [ 1.28226066e+00]],\n",
       "\n",
       "       [[-1.07034435e+01],\n",
       "        [-8.51020718e+00],\n",
       "        [-5.30014801e+00],\n",
       "        ...,\n",
       "        [-3.21832037e+00],\n",
       "        [-1.79332304e+00],\n",
       "        [-7.45307468e-03]],\n",
       "\n",
       "       ...,\n",
       "\n",
       "       [[-1.17263899e+01],\n",
       "        [-8.36099339e+00],\n",
       "        [-3.34873962e+00],\n",
       "        ...,\n",
       "        [-3.63800478e+00],\n",
       "        [-5.55429268e+00],\n",
       "        [-4.98490620e+00]],\n",
       "\n",
       "       [[-4.59554720e+00],\n",
       "        [-1.88232219e+00],\n",
       "        [-1.98679745e+00],\n",
       "        ...,\n",
       "        [-9.92149353e+00],\n",
       "        [-8.15657139e+00],\n",
       "        [-8.68582344e+00]],\n",
       "\n",
       "       [[-9.50154686e+00],\n",
       "        [-9.01928425e+00],\n",
       "        [-8.81004429e+00],\n",
       "        ...,\n",
       "        [ 0.00000000e+00],\n",
       "        [ 0.00000000e+00],\n",
       "        [ 0.00000000e+00]]])"
      ]
     },
     "execution_count": 9,
     "metadata": {},
     "output_type": "execute_result"
    }
   ],
   "source": [
    "audio_features_cnn = np.expand_dims(audio_features, axis = 2)\n",
    "audio_features_cnn"
   ]
  },
  {
   "cell_type": "code",
   "execution_count": 34,
   "metadata": {},
   "outputs": [
    {
     "name": "stdout",
     "output_type": "stream",
     "text": [
      "\r",
      "9/9 [==============================] - 0s 4ms/step\n"
     ]
    }
   ],
   "source": [
    "preds = loaded_model.predict(audio_features_cnn, \n",
    "                             batch_size = 32, \n",
    "                             verbose = 1)"
   ]
  },
  {
   "cell_type": "code",
   "execution_count": 27,
   "metadata": {},
   "outputs": [],
   "source": [
    "def sumProbs(preds):\n",
    "    file = []\n",
    "    for i in range(9):\n",
    "        temp = []\n",
    "        p_angry = preds[i][0] + preds[i][5]\n",
    "        p_calm = preds[i][1] + preds[i][6]\n",
    "        p_fearful = preds[i][2] + preds[i][7]\n",
    "        p_happy = preds[i][3] + preds[i][8]\n",
    "        p_sad = preds[i][4] + preds[i][9]\n",
    "        temp.append(p_angry)\n",
    "        temp.append(p_calm)\n",
    "        temp.append(p_fearful)\n",
    "        temp.append(p_happy)\n",
    "        temp.append(p_sad)\n",
    "        file.append(temp)\n",
    "    return np.array(file)"
   ]
  },
  {
   "cell_type": "code",
   "execution_count": 28,
   "metadata": {},
   "outputs": [
    {
     "data": {
      "text/plain": [
       "array([[1.80615461e-05, 1.06655435e-26, 3.30796744e-11, 9.99981880e-01,\n",
       "        3.18238669e-16],\n",
       "       [1.00000000e+00, 1.02080774e-33, 9.87227540e-22, 2.03328760e-11,\n",
       "        2.36926342e-23],\n",
       "       [3.85580026e-02, 4.48244957e-13, 5.29361665e-02, 9.08505678e-01,\n",
       "        1.79429264e-07],\n",
       "       [1.70362946e-05, 9.76058027e-19, 9.99903798e-01, 7.92013889e-05,\n",
       "        5.93343730e-09],\n",
       "       [9.76949930e-01, 4.43267412e-35, 2.30886597e-16, 2.30501033e-02,\n",
       "        2.19294882e-15],\n",
       "       [4.25142935e-04, 6.61814413e-20, 6.71178782e-07, 9.99574125e-01,\n",
       "        9.72960251e-14],\n",
       "       [1.15296552e-06, 0.00000000e+00, 2.01270804e-22, 9.99998808e-01,\n",
       "        4.37406585e-35],\n",
       "       [7.03883066e-04, 4.93223050e-17, 8.06314886e-01, 1.91383645e-01,\n",
       "        1.59765396e-03],\n",
       "       [8.83158743e-02, 3.08008779e-20, 8.39973653e-13, 3.67920683e-03,\n",
       "        9.08004940e-01]], dtype=float32)"
      ]
     },
     "execution_count": 28,
     "metadata": {},
     "output_type": "execute_result"
    }
   ],
   "source": [
    "new_preds = sumProbs(preds)\n",
    "new_preds"
   ]
  },
  {
   "cell_type": "code",
   "execution_count": 30,
   "metadata": {},
   "outputs": [
    {
     "name": "stdout",
     "output_type": "stream",
     "text": [
      "[3 0 3 2 0 3 3 2 4]\n"
     ]
    }
   ],
   "source": [
    "arg_max = new_preds.argmax(axis = 1)\n",
    "print(arg_max)"
   ]
  },
  {
   "cell_type": "code",
   "execution_count": 32,
   "metadata": {},
   "outputs": [],
   "source": [
    "emotions = {\n",
    "    0: 'angry', \n",
    "    1: 'calm',\n",
    "    2 : 'fearful',\n",
    "    3 : 'happy',\n",
    "    4 : 'sad',\n",
    "}\n",
    "\n",
    "def inverseTransform(preds, emotion_dict):\n",
    "    decoded = []\n",
    "    preds = preds.tolist()\n",
    "    for i in range(9):\n",
    "        key = preds[i]\n",
    "        filename = file_names[i]\n",
    "        val = emotion_dict[key]\n",
    "        print('file name:', filename, '/', 'CNN prediction:', key, '/', 'predicted emotion:', val)\n",
    "        decoded.append(val) \n",
    "    return filename, key, val\n",
    "        "
   ]
  },
  {
   "cell_type": "code",
   "execution_count": 33,
   "metadata": {},
   "outputs": [
    {
     "name": "stdout",
     "output_type": "stream",
     "text": [
      "file name: daffyduck.wav / CNN prediction: 3 / predicted emotion: happy\n",
      "file name: deranged.wav / CNN prediction: 0 / predicted emotion: angry\n",
      "file name: weapons.wav / CNN prediction: 3 / predicted emotion: happy\n",
      "file name: gamble.wav / CNN prediction: 2 / predicted emotion: fearful\n",
      "file name: cage.wav / CNN prediction: 0 / predicted emotion: angry\n",
      "file name: punish.wav / CNN prediction: 3 / predicted emotion: happy\n",
      "file name: shesaid.wav / CNN prediction: 3 / predicted emotion: happy\n",
      "file name: smile.wav / CNN prediction: 2 / predicted emotion: fearful\n",
      "file name: wild.wav / CNN prediction: 4 / predicted emotion: sad\n"
     ]
    }
   ],
   "source": [
    "pred_emo = inverseTransform(arg_max, emotions)"
   ]
  }
 ],
 "metadata": {
  "kernelspec": {
   "display_name": "Python 3",
   "language": "python",
   "name": "python3"
  },
  "language_info": {
   "codemirror_mode": {
    "name": "ipython",
    "version": 3
   },
   "file_extension": ".py",
   "mimetype": "text/x-python",
   "name": "python",
   "nbconvert_exporter": "python",
   "pygments_lexer": "ipython3",
   "version": "3.7.4"
  }
 },
 "nbformat": 4,
 "nbformat_minor": 2
}
