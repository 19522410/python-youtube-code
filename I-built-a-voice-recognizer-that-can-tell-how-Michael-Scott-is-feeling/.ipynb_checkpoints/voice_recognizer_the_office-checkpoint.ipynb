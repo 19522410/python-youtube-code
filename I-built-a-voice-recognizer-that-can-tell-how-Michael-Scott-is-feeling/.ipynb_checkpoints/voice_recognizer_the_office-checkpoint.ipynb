{
 "cells": [
  {
   "cell_type": "code",
   "execution_count": 1,
   "metadata": {},
   "outputs": [
    {
     "name": "stderr",
     "output_type": "stream",
     "text": [
      "Using TensorFlow backend.\n"
     ]
    }
   ],
   "source": [
    "import os\n",
    "from tensorflow import keras\n",
    "from keras.models import model_from_json\n",
    "import librosa\n",
    "import librosa.display\n",
    "import numpy as np\n",
    "import matplotlib.pyplot as plt"
   ]
  },
  {
   "cell_type": "code",
   "execution_count": 3,
   "metadata": {},
   "outputs": [],
   "source": [
    "# Read in the JSON file\n",
    "json_file = open('model.json', 'r')\n",
    "loaded_model_json = json_file.read()\n",
    "json_file.close()"
   ]
  },
  {
   "cell_type": "code",
   "execution_count": 4,
   "metadata": {},
   "outputs": [],
   "source": [
    "# Load the model from JSON \n",
    "loaded_model = model_from_json(loaded_model_json)"
   ]
  },
  {
   "cell_type": "code",
   "execution_count": 5,
   "metadata": {},
   "outputs": [
    {
     "name": "stdout",
     "output_type": "stream",
     "text": [
      "Loaded model from disk\n"
     ]
    }
   ],
   "source": [
    "# Load weights into new model\n",
    "loaded_model.load_weights('saved_models/Emotion_Voice_Detection_Model.h5')\n",
    "print('Loaded model from disk')"
   ]
  },
  {
   "cell_type": "code",
   "execution_count": 6,
   "metadata": {},
   "outputs": [],
   "source": [
    "o = keras.optimizers.RMSprop(lr = 0.00001, decay = 1e-6)\n",
    "loaded_model.compile(loss ='categorical_crossentropy', optimizer = o, metrics = ['accuracy'])"
   ]
  },
  {
   "cell_type": "code",
   "execution_count": 7,
   "metadata": {},
   "outputs": [],
   "source": [
    "# Method for reading in the audio files and extracting features\n",
    "\n",
    "def read_audio_files(direc):\n",
    "    df = pd.DataFrame(columns=['feature'])\n",
    "    i = 0\n",
    "    \n",
    "    for audiofile in os.listdir(direc):\n",
    "        # Load file using librosa\n",
    "        X, sr = librosa.load(audiofile, sr = 32000)\n",
    "        sr = np.array(sr)\n",
    "        mfccs = np.mean(librosa.feature.mfcc(y = X, \n",
    "                                            sr =sample_rate, \n",
    "                                            n_mfcc = 13),\n",
    "                        axis=0)\n",
    "        feature = mfccs\n",
    "        df.loc[i] = [feature]\n",
    "        i += 1\n",
    "    return df\n",
    "    \n",
    "        "
   ]
  },
  {
   "cell_type": "code",
   "execution_count": null,
   "metadata": {},
   "outputs": [],
   "source": []
  }
 ],
 "metadata": {
  "kernelspec": {
   "display_name": "Python 3",
   "language": "python",
   "name": "python3"
  },
  "language_info": {
   "codemirror_mode": {
    "name": "ipython",
    "version": 3
   },
   "file_extension": ".py",
   "mimetype": "text/x-python",
   "name": "python",
   "nbconvert_exporter": "python",
   "pygments_lexer": "ipython3",
   "version": "3.7.4"
  }
 },
 "nbformat": 4,
 "nbformat_minor": 2
}
