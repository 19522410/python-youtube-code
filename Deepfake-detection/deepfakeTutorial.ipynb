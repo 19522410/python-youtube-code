{
 "cells": [
  {
   "cell_type": "code",
   "execution_count": 15,
   "metadata": {},
   "outputs": [],
   "source": [
    "import os\n",
    "os.environ['KMP_DUPLICATE_LIB_OK']='True'\n",
    "import numpy as np\n",
    "import skimage\n",
    "from skimage.io import imread, imshow\n",
    "from skimage.transform import resize"
   ]
  },
  {
   "cell_type": "code",
   "execution_count": 22,
   "metadata": {},
   "outputs": [],
   "source": [
    "def readImgs(path, length):\n",
    "    imgs = []\n",
    "    i = 0\n",
    "    for filename in os.listdir(path): \n",
    "        i += 1\n",
    "        if i == length:\n",
    "            break\n",
    "        if filename.endswith('.jpg'):\n",
    "            img = imread(os.path.join(path,filename))\n",
    "            resized = resize(img, (256, 256), anti_aliasing=True)\n",
    "            imgs.append(resized)\n",
    "    return imgs"
   ]
  },
  {
   "cell_type": "code",
   "execution_count": 25,
   "metadata": {},
   "outputs": [],
   "source": [
    "train_df_path = 'deepfake_database/deepfake_database/train:test/df'\n",
    "train_real_path = 'deepfake_database/deepfake_database/train:test/real'\n",
    "deepfakes_train = readImgs(train_df_path, 21)\n",
    "real_train = readImgs(train_real_path, 21)"
   ]
  },
  {
   "cell_type": "code",
   "execution_count": 26,
   "metadata": {},
   "outputs": [
    {
     "name": "stdout",
     "output_type": "stream",
     "text": [
      "20\n",
      "20\n"
     ]
    }
   ],
   "source": [
    "print(len(deepfakes_train))\n",
    "print(len(real_train))"
   ]
  },
  {
   "cell_type": "code",
   "execution_count": 33,
   "metadata": {},
   "outputs": [],
   "source": [
    "y_train = [0]*20 + [1]*20\n",
    "X_train = deepfakes_train + real_train"
   ]
  },
  {
   "cell_type": "code",
   "execution_count": 34,
   "metadata": {},
   "outputs": [],
   "source": [
    "y_train = np.array(y_train)\n",
    "X_train = np.array(X_train)"
   ]
  },
  {
   "cell_type": "code",
   "execution_count": 35,
   "metadata": {},
   "outputs": [
    {
     "data": {
      "text/plain": [
       "(40, 256, 256, 3)"
      ]
     },
     "execution_count": 35,
     "metadata": {},
     "output_type": "execute_result"
    }
   ],
   "source": [
    "X_train.shape"
   ]
  },
  {
   "cell_type": "markdown",
   "metadata": {},
   "source": [
    "# MesoNet Model Development"
   ]
  },
  {
   "cell_type": "code",
   "execution_count": 2,
   "metadata": {},
   "outputs": [
    {
     "name": "stderr",
     "output_type": "stream",
     "text": [
      "Using TensorFlow backend.\n"
     ]
    }
   ],
   "source": [
    "import tensorflow as tf\n",
    "from keras.models import Model\n",
    "from keras.optimizers import Adam\n",
    "from keras.layers import Input, Dense, Flatten, Conv2D, MaxPooling2D, BatchNormalization, Dropout, Reshape, Concatenate, LeakyReLU"
   ]
  },
  {
   "cell_type": "code",
   "execution_count": 3,
   "metadata": {},
   "outputs": [],
   "source": [
    "def init_model(img_width): \n",
    "    x = Input(shape = (img_width, img_width, 3))\n",
    "    x1 = Conv2D(8, (3, 3), padding='same', activation = 'relu')(x)\n",
    "    x1 = BatchNormalization()(x1)\n",
    "    x1 = MaxPooling2D(pool_size=(2, 2), padding='same')(x1)\n",
    "        \n",
    "    x2 = Conv2D(8, (5, 5), padding='same', activation = 'relu')(x1)\n",
    "    x2 = BatchNormalization()(x2)\n",
    "    x2 = MaxPooling2D(pool_size=(2, 2), padding='same')(x2)\n",
    "        \n",
    "    x3 = Conv2D(16, (5, 5), padding='same', activation = 'relu')(x2)\n",
    "    x3 = BatchNormalization()(x3)\n",
    "    x3 = MaxPooling2D(pool_size=(2, 2), padding='same')(x3)\n",
    "        \n",
    "    x4 = Conv2D(16, (5, 5), padding='same', activation = 'relu')(x3)\n",
    "    x4 = BatchNormalization()(x4)\n",
    "    x4 = MaxPooling2D(pool_size=(4, 4), padding='same')(x4)\n",
    "        \n",
    "    y = Flatten()(x4)\n",
    "    y = Dropout(0.5)(y)\n",
    "    y = Dense(16)(y)\n",
    "    y = LeakyReLU(alpha=0.1)(y)\n",
    "    y = Dropout(0.5)(y)\n",
    "    y = Dense(1, activation = 'sigmoid')(y)\n",
    "    return Model(inputs = x, outputs = y)"
   ]
  },
  {
   "cell_type": "code",
   "execution_count": 4,
   "metadata": {},
   "outputs": [],
   "source": [
    "Meso4 = init_model(256)\n",
    "opt = Adam(lr = 0.001)\n",
    "Meso4.compile(optimizer = opt, loss = 'binary_crossentropy')"
   ]
  },
  {
   "cell_type": "code",
   "execution_count": 48,
   "metadata": {},
   "outputs": [
    {
     "name": "stdout",
     "output_type": "stream",
     "text": [
      "Train on 400 samples, validate on 100 samples\n",
      "Epoch 1/5\n",
      "400/400 [==============================] - 30s 76ms/step - loss: 2.0292 - val_loss: 0.7274\n",
      "Epoch 2/5\n",
      "400/400 [==============================] - 21s 52ms/step - loss: 1.1109 - val_loss: 0.6889\n",
      "Epoch 3/5\n",
      "400/400 [==============================] - 20s 49ms/step - loss: 0.8715 - val_loss: 0.7026\n",
      "Epoch 4/5\n",
      "400/400 [==============================] - 23s 57ms/step - loss: 0.7349 - val_loss: 0.7127\n",
      "Epoch 5/5\n",
      "400/400 [==============================] - 24s 59ms/step - loss: 0.6808 - val_loss: 0.7215\n"
     ]
    },
    {
     "data": {
      "text/plain": [
       "<keras.callbacks.callbacks.History at 0x1d7a7410d0>"
      ]
     },
     "execution_count": 48,
     "metadata": {},
     "output_type": "execute_result"
    }
   ],
   "source": [
    "Meso4.fit(X_train, y_train, batch_size = 50, validation_split = 0.2, epochs = 5)"
   ]
  },
  {
   "cell_type": "code",
   "execution_count": null,
   "metadata": {},
   "outputs": [],
   "source": [
    "Meso4.save('Meso4_limited_dataset.h5')"
   ]
  },
  {
   "cell_type": "code",
   "execution_count": 8,
   "metadata": {},
   "outputs": [],
   "source": [
    "from keras.preprocessing.image import ImageDataGenerator"
   ]
  },
  {
   "cell_type": "code",
   "execution_count": 9,
   "metadata": {},
   "outputs": [
    {
     "name": "stdout",
     "output_type": "stream",
     "text": [
      "Found 5 images belonging to 2 classes.\n"
     ]
    }
   ],
   "source": [
    "dataGenerator = ImageDataGenerator(rescale=1./255)\n",
    "generator = dataGenerator.flow_from_directory(\n",
    "        'extracted_imgs',\n",
    "        shuffle=False,\n",
    "        target_size=(256, 256),\n",
    "        batch_size=5,\n",
    "        class_mode='binary',\n",
    "        subset='training')\n",
    "\n",
    "# Predict \n",
    "# y: Deepfake, Deepfake, Deepfake, real, real \n",
    "X_test, y_test = generator.next()\n",
    "image_names = generator.filenames"
   ]
  },
  {
   "cell_type": "code",
   "execution_count": 11,
   "metadata": {},
   "outputs": [],
   "source": [
    "def convertToActual(probs):\n",
    "    return np.round(probs)\n",
    "\n",
    "def computeAccuracy(pred, real):\n",
    "    cnt = 0\n",
    "    for i in range(len(pred)):\n",
    "        if pred[i] == real[i]:\n",
    "            cnt += 1\n",
    "    return cnt/len(pred)*100"
   ]
  },
  {
   "cell_type": "markdown",
   "metadata": {},
   "source": [
    "# Predictions from training on a limited portion of the dataset"
   ]
  },
  {
   "cell_type": "code",
   "execution_count": 38,
   "metadata": {},
   "outputs": [
    {
     "name": "stdout",
     "output_type": "stream",
     "text": [
      "The order of the files are (df is DeepFake):\n",
      "df/elon_fake_1.png\n",
      "df/elon_fake_2.png\n",
      "df/obama_fake.png\n",
      "real/elon_real.png\n",
      "real/obama_real.png\n",
      "Predicted probability of the image being real Meso: [[0.4955473 ]\n",
      " [0.51936394]\n",
      " [0.55302715]\n",
      " [0.5075346 ]\n",
      " [0.49840945]] \n",
      "Predicted class : [[0.]\n",
      " [1.]\n",
      " [1.]\n",
      " [1.]\n",
      " [0.]]\n",
      "Deepfake detection accuracy is: 40.0 %\n"
     ]
    }
   ],
   "source": [
    "print(\"The order of the files are (df is DeepFake):\")\n",
    "for name in image_names:\n",
    "        print(name)\n",
    "Meso4.load_weights('Meso4_limited_dataset.h5')\n",
    "prob_real_meso = Meso4.predict(X_test)\n",
    "\n",
    "actual_pred_Meso = convertToActual(prob_real_meso)\n",
    "print('Predicted probability of the image being real Meso:', prob_real_meso,'\\nPredicted class :', actual_pred_Meso)\n",
    "print('Deepfake detection accuracy is:', computeAccuracy(actual_pred_Meso, y_test), '%')"
   ]
  },
  {
   "cell_type": "markdown",
   "metadata": {},
   "source": [
    "# Predictions from the pretrained weights"
   ]
  },
  {
   "cell_type": "code",
   "execution_count": 31,
   "metadata": {},
   "outputs": [],
   "source": [
    "Meso4.load_weights('weights/Meso4_DF')"
   ]
  },
  {
   "cell_type": "code",
   "execution_count": 32,
   "metadata": {},
   "outputs": [
    {
     "name": "stdout",
     "output_type": "stream",
     "text": [
      "The order of the files are (df is DeepFake):\n",
      "df/elon_fake_1.png\n",
      "df/elon_fake_2.png\n",
      "df/obama_fake.png\n",
      "real/elon_real.png\n",
      "real/obama_real.png\n",
      "Predicted probability of the image being real Meso: [[0.7889354]\n",
      " [0.7816247]\n",
      " [0.9934752]\n",
      " [0.8929086]\n",
      " [0.695085 ]] \n",
      "Predicted class : [[1.]\n",
      " [1.]\n",
      " [1.]\n",
      " [1.]\n",
      " [1.]]\n",
      "Deepfake detection accuracy is: 40.0 %\n"
     ]
    }
   ],
   "source": [
    "print(\"The order of the files are (df is DeepFake):\")\n",
    "for name in image_names:\n",
    "        print(name)\n",
    "prob_real_meso = Meso4.predict(X_test)\n",
    "\n",
    "actual_pred_Meso = convertToActual(prob_real_meso)\n",
    "print('Predicted probability of the image being real Meso:', prob_real_meso,'\\nPredicted class :', actual_pred_Meso)\n",
    "print('Deepfake detection accuracy is:', computeAccuracy(actual_pred_Meso, y_test), '%')"
   ]
  },
  {
   "cell_type": "markdown",
   "metadata": {},
   "source": [
    "## Predictions on the original data set for a sanity check "
   ]
  },
  {
   "cell_type": "code",
   "execution_count": 38,
   "metadata": {},
   "outputs": [
    {
     "name": "stdout",
     "output_type": "stream",
     "text": [
      "Predicted probability of the image being real Meso: [[4.5588583e-01]\n",
      " [4.5874006e-01]\n",
      " [5.1707745e-02]\n",
      " [1.3030857e-02]\n",
      " [2.5985420e-02]\n",
      " [2.8252310e-01]\n",
      " [4.6801388e-02]\n",
      " [5.0092816e-01]\n",
      " [4.8294336e-02]\n",
      " [1.2809092e-01]\n",
      " [6.7514610e-01]\n",
      " [6.3818693e-04]\n",
      " [3.1593686e-01]\n",
      " [2.6893723e-01]\n",
      " [1.1758542e-01]\n",
      " [1.3589859e-03]\n",
      " [4.5870692e-01]\n",
      " [4.8491436e-01]\n",
      " [6.4844346e-01]\n",
      " [5.6062639e-03]\n",
      " [7.2420782e-01]\n",
      " [7.1361661e-01]\n",
      " [7.3447573e-01]\n",
      " [9.5594561e-01]\n",
      " [8.9558512e-01]\n",
      " [9.6427691e-01]\n",
      " [7.7566338e-01]\n",
      " [8.1778729e-01]\n",
      " [5.9420520e-01]\n",
      " [4.6097699e-01]\n",
      " [5.5239248e-01]\n",
      " [7.5305945e-01]\n",
      " [9.6896005e-01]\n",
      " [3.0411106e-01]\n",
      " [3.7789840e-01]\n",
      " [2.9373610e-01]\n",
      " [9.0920424e-01]\n",
      " [9.8764241e-01]\n",
      " [9.7903252e-01]\n",
      " [8.1950206e-01]] \n",
      "Predicted class : [[0.]\n",
      " [0.]\n",
      " [0.]\n",
      " [0.]\n",
      " [0.]\n",
      " [0.]\n",
      " [0.]\n",
      " [1.]\n",
      " [0.]\n",
      " [0.]\n",
      " [1.]\n",
      " [0.]\n",
      " [0.]\n",
      " [0.]\n",
      " [0.]\n",
      " [0.]\n",
      " [0.]\n",
      " [0.]\n",
      " [1.]\n",
      " [0.]\n",
      " [1.]\n",
      " [1.]\n",
      " [1.]\n",
      " [1.]\n",
      " [1.]\n",
      " [1.]\n",
      " [1.]\n",
      " [1.]\n",
      " [1.]\n",
      " [0.]\n",
      " [1.]\n",
      " [1.]\n",
      " [1.]\n",
      " [0.]\n",
      " [0.]\n",
      " [0.]\n",
      " [1.]\n",
      " [1.]\n",
      " [1.]\n",
      " [1.]]\n",
      "Deepfake detection accuracy is: 82.5 %\n"
     ]
    }
   ],
   "source": [
    "prob_real_meso_1 = Meso4.predict(X_train)\n",
    "\n",
    "actual_pred_Meso_1 = convertToActual(prob_real_meso_1)\n",
    "print('Predicted probability of the image being real Meso:', prob_real_meso_1,'\\nPredicted class :', actual_pred_Meso_1)\n",
    "print('Deepfake detection accuracy is:', computeAccuracy(actual_pred_Meso_1, y_train), '%')"
   ]
  }
 ],
 "metadata": {
  "kernelspec": {
   "display_name": "Python 3",
   "language": "python",
   "name": "python3"
  },
  "language_info": {
   "codemirror_mode": {
    "name": "ipython",
    "version": 3
   },
   "file_extension": ".py",
   "mimetype": "text/x-python",
   "name": "python",
   "nbconvert_exporter": "python",
   "pygments_lexer": "ipython3",
   "version": "3.7.4"
  }
 },
 "nbformat": 4,
 "nbformat_minor": 2
}
